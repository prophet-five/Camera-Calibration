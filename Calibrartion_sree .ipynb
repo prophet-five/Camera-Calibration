{
 "cells": [
  {
   "cell_type": "markdown",
   "metadata": {
    "colab_type": "text",
    "id": "DmftS3V9FgP7",
    "pycharm": {
     "name": "#%% md\n"
    }
   },
   "source": [
    "### CAMERA CALIBRATION\n",
    "\n"
   ]
  },
  {
   "cell_type": "code",
   "execution_count": 1,
   "metadata": {
    "colab": {},
    "colab_type": "code",
    "id": "Wma7m5CNU4Sk",
    "pycharm": {
     "name": "#%%\n"
    }
   },
   "outputs": [],
   "source": [
    "import numpy as np\n",
    "# import cv2\n",
    "import scipy.io\n",
    "import os\n",
    "from numpy.linalg import norm\n",
    "from matplotlib import pyplot as plt\n",
    "from numpy.linalg import det\n",
    "from numpy.linalg import inv\n",
    "from scipy.linalg import rq\n",
    "from numpy.linalg import svd\n",
    "import matplotlib.pyplot as plt\n",
    "import numpy as np\n",
    "from matplotlib.patches import Circle"
   ]
  },
  {
   "cell_type": "markdown",
   "metadata": {
    "colab_type": "text",
    "id": "-kGO1wv-_QyJ",
    "pycharm": {
     "name": "#%% md\n"
    }
   },
   "source": [
    "####This part of the code lets you use files from your Google Drive account\n",
    "####You need not use this if you are not using Google Colaboratory\n",
    "####Running code on Google Colab\n",
    "\n",
    "(a) Make a folder on Google Drive, upload this file and all the data files provided to you into the same folder\n",
    "\n",
    "(b) The last part of the URL will serve as the \"folder_id\" in the line below\n",
    "\n",
    "If you are unsure, you can read further here : https://stackoverflow.com/questions/48376580/google-colab-how-to-read-data-from-my-google-drive"
   ]
  },
  {
   "cell_type": "code",
   "execution_count": 2,
   "metadata": {
    "colab": {
     "base_uri": "https://localhost:8080/",
     "height": 252
    },
    "colab_type": "code",
    "id": "epoOxIRV8a_1",
    "outputId": "d4b4c369-ae52-460b-daee-29396a8718a4",
    "pycharm": {
     "name": "#%%\n"
    }
   },
   "outputs": [
    {
     "ename": "ModuleNotFoundError",
     "evalue": "No module named 'google.colab'",
     "output_type": "error",
     "traceback": [
      "\u001B[0;31m---------------------------------------------------------------------------\u001B[0m",
      "\u001B[0;31mModuleNotFoundError\u001B[0m                       Traceback (most recent call last)",
      "\u001B[0;32m/tmp/ipykernel_13343/2720992079.py\u001B[0m in \u001B[0;36m<module>\u001B[0;34m\u001B[0m\n\u001B[1;32m      5\u001B[0m \u001B[0;32mfrom\u001B[0m \u001B[0mpydrive\u001B[0m\u001B[0;34m.\u001B[0m\u001B[0mauth\u001B[0m \u001B[0;32mimport\u001B[0m \u001B[0mGoogleAuth\u001B[0m\u001B[0;34m\u001B[0m\u001B[0;34m\u001B[0m\u001B[0m\n\u001B[1;32m      6\u001B[0m \u001B[0;32mfrom\u001B[0m \u001B[0mpydrive\u001B[0m\u001B[0;34m.\u001B[0m\u001B[0mdrive\u001B[0m \u001B[0;32mimport\u001B[0m \u001B[0mGoogleDrive\u001B[0m\u001B[0;34m\u001B[0m\u001B[0;34m\u001B[0m\u001B[0m\n\u001B[0;32m----> 7\u001B[0;31m \u001B[0;32mfrom\u001B[0m \u001B[0mgoogle\u001B[0m\u001B[0;34m.\u001B[0m\u001B[0mcolab\u001B[0m \u001B[0;32mimport\u001B[0m \u001B[0mauth\u001B[0m\u001B[0;34m\u001B[0m\u001B[0;34m\u001B[0m\u001B[0m\n\u001B[0m\u001B[1;32m      8\u001B[0m \u001B[0;32mfrom\u001B[0m \u001B[0moauth2client\u001B[0m\u001B[0;34m.\u001B[0m\u001B[0mclient\u001B[0m \u001B[0;32mimport\u001B[0m \u001B[0mGoogleCredentials\u001B[0m\u001B[0;34m\u001B[0m\u001B[0;34m\u001B[0m\u001B[0m\n\u001B[1;32m      9\u001B[0m \u001B[0;34m\u001B[0m\u001B[0m\n",
      "\u001B[0;31mModuleNotFoundError\u001B[0m: No module named 'google.colab'"
     ]
    }
   ],
   "source": [
    "folder_id = ' '  # Enter the last part of the URL of the Google Drive folder here\n",
    "\n",
    "!pip install -U -q PyDrive\n",
    "\n",
    "from pydrive.auth import GoogleAuth\n",
    "from pydrive.drive import GoogleDrive\n",
    "from google.colab import auth\n",
    "from oauth2client.client import GoogleCredentials\n",
    "\n",
    "# 1. Authenticate and create the PyDrive client.\n",
    "auth.authenticate_user()\n",
    "gauth = GoogleAuth()\n",
    "gauth.credentials = GoogleCredentials.get_application_default()\n",
    "drive = GoogleDrive(gauth)\n",
    "\n",
    "# choose a local (colab) directory to store the data.\n",
    "local_download_path = os.path.expanduser('~/data')\n",
    "try:\n",
    "    os.makedirs(local_download_path)\n",
    "except:\n",
    "    pass\n",
    "\n",
    "# 2. Auto-iterate using the query syntax\n",
    "#    https://developers.google.com/drive/v2/web/search-parameters\n",
    "file_list = drive.ListFile(\n",
    "    {'q': '\\'' + folder_id + \"\\' in parents\"}).GetList()\n",
    "\n",
    "for f in file_list:\n",
    "    # 3. Create & download by id.\n",
    "    print('title: %s, id: %s' % (f['title'], f['id']))\n",
    "    fname = os.path.join(local_download_path, f['title'])\n",
    "    print('downloading to {}'.format(fname))\n",
    "    f_ = drive.CreateFile({'id': f['id']})\n",
    "    f_.GetContentFile(fname)\n",
    "\n",
    "os.chdir(local_download_path)"
   ]
  },
  {
   "cell_type": "markdown",
   "metadata": {
    "colab_type": "text",
    "id": "fTUXHAEoWSMU",
    "pycharm": {
     "name": "#%% md\n"
    }
   },
   "source": [
    "####PART 1: Given corresponding 2d points in the image and 3d coordinates with known extrinsics, estimate the camera intrinsics of the form given in the CalibrationAssignment.docx"
   ]
  },
  {
   "cell_type": "code",
   "execution_count": null,
   "metadata": {
    "colab": {
     "base_uri": "https://localhost:8080/",
     "height": 101
    },
    "colab_type": "code",
    "id": "DAdmjVtfVJrv",
    "outputId": "d995a518-fef7-4907-c84a-f82eb8946d05",
    "pycharm": {
     "name": "#%%\n"
    }
   },
   "outputs": [],
   "source": [
    "# Code for Part 1 starts here\n",
    "\n",
    "# Step 1: Load the data file pt_corres.mat\n",
    "data_part1 = scipy.io.loadmat('pt_corres.mat')\n",
    "cam_pts_3D = data_part1['cam_pts_3D']  # Load the 3d points\n",
    "pts_2D = data_part1['pts_2D']  # Load the corresponding 2d points\n",
    "\n",
    "print\n",
    "pts_2D.shape\n",
    "print\n",
    "cam_pts_3D.shape\n",
    "\n",
    "# Step 2: Write your code here to compute the camera intrinsics \n",
    "\n",
    "#Obtain the transpose of two matrices\n",
    "pts_2DT = np.transpose(pts_2D)\n",
    "cam_pts_3DT = np.transpose(cam_pts_3D)\n",
    "\n",
    "one = np.ones((28, 1))\n",
    "\n",
    "#Matrix AT is composed of three columns with the first column being the x values of the image points, \n",
    "#second column being the y values of the image points and the third column being zeros \n",
    "\n",
    "A = np.hstack((pts_2DT, one))\n",
    "AT = np.transpose(A)\n",
    "\n",
    "#Compose matrix BT such that 1st column is X/Z, 2nd column is Y/Z, 3rd column is one\n",
    "x1 = np.empty((28, 1))\n",
    "x2 = np.empty((28, 1))\n",
    "for i in range(0, 28):\n",
    "    x1[i] = cam_pts_3DT[i][0] / cam_pts_3DT[i][2]\n",
    "    x2[i] = cam_pts_3DT[i][1] / cam_pts_3DT[i][2]\n",
    "\n",
    "B = np.hstack((x1, x2, one))\n",
    "BT = np.transpose(B)\n",
    "Binv = np.linalg.pinv(BT)\n",
    "print(\"K\", np.dot(AT, Binv))\n",
    "# Code for Part 1 ends here"
   ]
  },
  {
   "cell_type": "markdown",
   "metadata": {
    "colab_type": "text",
    "id": "WvwcavClWxUa",
    "pycharm": {
     "name": "#%% md\n"
    }
   },
   "source": [
    "####PART 2: Given 2d points on the image and corresponding 3d points in the world-coordinate system, estimate both intrinsics and extrinsics. You need to fill in the code for the function calibrate() in calib_DLT.ipynb before running the cell below"
   ]
  },
  {
   "cell_type": "code",
   "execution_count": null,
   "metadata": {
    "colab": {
     "base_uri": "https://localhost:8080/",
     "height": 567
    },
    "colab_type": "code",
    "id": "s_21yq8GXM9T",
    "outputId": "6dd695ec-a5ab-4a4c-843b-fd074dfc88f9",
    "pycharm": {
     "name": "#%%\n"
    }
   },
   "outputs": [],
   "source": [
    "\n",
    "def calibrate(x, X):\n",
    "    '''\n",
    "    This function computes camera projection matrix from 3D scene points\n",
    "    and corresponding 2D image points with the Direct Linear Transformation (DLT).\n",
    "\n",
    "    Usage:\n",
    "    P = calibrate(x, X)\n",
    "\n",
    "    Input:\n",
    "    x: 2xn image points\n",
    "    X: 3xn scene points\n",
    "\n",
    "    Output:\n",
    "    P: 3x4 camera projection matrix\n",
    "\n",
    "    '''\n",
    "\n",
    "    # Your code goes here\n",
    "\n",
    "    # Hint 1: Convert to homogeneous coordinates first\n",
    "    # Hint 2: np.hstack and np.vstack are useful functions\n",
    "\n",
    "    # Warning: The svd function from Numpy returns U, Sigma and V_transpose (not V, unlike Matlab)\n",
    "\n",
    "    xt = np.transpose(x)\n",
    "    Xt = np.transpose(X)\n",
    "    #print Xt\n",
    "    #print xt\n",
    "\n",
    "    Xt = np.hstack((Xt, np.ones((28, 1))))\n",
    "    print\n",
    "    Xt.shape\n",
    "    zero4 = np.array((0, 0, 0, 0))\n",
    "\n",
    "    M = np.array((56, 12))\n",
    "    for i in range(0, 28):\n",
    "        A = np.hstack((zero4, -Xt[i], xt[i][1] * Xt[i]))\n",
    "        B = np.hstack((Xt[i], zero4, -xt[i][0] * Xt[i]))\n",
    "        A = np.reshape(A, (1, 12))\n",
    "        B = np.reshape(B, (1, 12))\n",
    "        if i == 0:\n",
    "            M = np.vstack((A, B))\n",
    "\n",
    "        else:\n",
    "            M = np.vstack((M, A, B))\n",
    "\n",
    "    u, s, vtranspose = np.linalg.svd(M)\n",
    "    v = np.transpose(vtranspose)\n",
    "    p = v[:, 11]\n",
    "\n",
    "    P = p.reshape((3, 4))\n",
    "    return P\n",
    "\n",
    "\n",
    "#######################################################################################################################################################################################################\n",
    "\n",
    "def P_to_KRt(P):\n",
    "    '''\n",
    "\n",
    "    This function computes the decomposition of the projection matrix into intrinsic parameters, K, and extrinsic parameters Q (the rotation matrix) and t (the translation vector)\n",
    "\n",
    "    Usage:\n",
    "    K, Q, t = P_to_KRt(P)\n",
    "\n",
    "    Input:\n",
    "    P: 3x4 projection matrix\n",
    "\n",
    "    Outputs:\n",
    "    K: 3x3 camera intrinsics\n",
    "    Q: 3x3 rotation matrix (extrinsics)\n",
    "    t: 3x1 translation vector(extrinsics)\n",
    "\n",
    "    '''\n",
    "\n",
    "    M = P[0:3, 0:3]\n",
    "\n",
    "    R, Q = rq(M)\n",
    "\n",
    "    K = R / float(R[2, 2])\n",
    "\n",
    "    if K[0, 0] < 0:\n",
    "        K[:, 0] = -1 * K[:, 0]\n",
    "        Q[0, :] = -1 * Q[0, :]\n",
    "\n",
    "    if K[1, 1] < 0:\n",
    "        K[:, 1] = -1 * K[:, 1]\n",
    "        Q[1, :] = -1 * Q[1, :]\n",
    "\n",
    "    if det(Q) < 0:\n",
    "        print\n",
    "        'Warning: Determinant of the supposed rotation matrix is -1'\n",
    "\n",
    "    P_3_3 = np.dot(K, Q)\n",
    "\n",
    "    P_proper_scale = (P_3_3[0, 0] * P) / float(P[0, 0])\n",
    "\n",
    "    t = np.dot(inv(K), P_proper_scale[:, 3])\n",
    "\n",
    "    return K, Q, t\n",
    "\n",
    "\n",
    "#######################################################################################################################################################################################################\n",
    "\n",
    "# Code for Part 2 starts here\n",
    "\n",
    "# Step 1 : Load the data files rubik_2D_pts.mat and rubik_3d_pts.mat\n",
    "\n",
    "pts_3d = scipy.io.loadmat('rubik_3D_pts.mat')[\n",
    "    'pts_3d']  # 3D points in the world-coordinate system with one of the corners of the Rubik's cube as the origin; side of each smaller cube = 1 unit\n",
    "pts_2d = scipy.io.loadmat('rubik_2D_pts.mat')[\n",
    "    'pts_2d']  # The corresponding 2D points on the image rubik_cube.jpg\n",
    "\n",
    "# Step 2: Get the camera calibration matrix P\n",
    "\n",
    "P = calibrate(pts_2d,\n",
    "              pts_3d)  # You need to fill in the code for this function before you execute this part of the code\n",
    "\n",
    "print\n",
    "'P = ', P\n",
    "\n",
    "# Step 3: Use the function P_to_KRt (already written for you) to decompose P into intrinsics (K) and extrinsics (R and t)\n",
    "[K, R, t] = P_to_KRt(P)\n",
    "\n",
    "print\n",
    "'K = ', K\n",
    "print\n",
    "'R = ', R\n",
    "print\n",
    "'t = ', t\n",
    "Xt = np.transpose(pts_3d)\n",
    "Xt = np.hstack((Xt, np.ones((28, 1))))\n",
    "X_ = np.transpose(Xt)\n",
    "\n",
    "# Write code here to compute the average reprojection error (averaged over the 28 points given)\n",
    "xnew = np.dot(P, X_)\n",
    "xnewt = np.transpose(xnew)\n",
    "x1 = np.empty((28, 1))\n",
    "x2 = np.empty((28, 1))\n",
    "for i in range(0, 28):\n",
    "    x1[i] = xnewt[i][0] / xnewt[i][2]\n",
    "    x2[i] = xnewt[i][1] / xnewt[i][2]\n",
    "\n",
    "x_proj = np.hstack((x1, x2))\n",
    "xt = np.transpose(pts_2d)\n",
    "sumerr = 0\n",
    "for i in range(0, 28):\n",
    "    sumerr += np.square(xt[i][0] - x_proj[i][0]) + np.square(\n",
    "        xt[i][1] - x_proj[i][1])\n",
    "reproj_err = np.sqrt(sumerr) / 28\n",
    "print(\"Reprojection Error\", reproj_err)\n",
    "\n",
    "# Display the given 2D points and the reprojected 2D points on the Rubik's Cube image provided\n",
    "fig, ax = plt.subplots(1)\n",
    "ax.set_aspect('equal')\n",
    "img = plt.imread(\"rubik_cube.jpg\")\n",
    "xorg = xt[:, 0]\n",
    "yorg = xt[:, 1]\n",
    "xproj = x_proj[:, 0]\n",
    "yproj = x_proj[:, 1]\n",
    "for xx, yy in zip(xorg, yorg):\n",
    "    circ = Circle((xx, yy), 20, color='r')\n",
    "    ax.add_patch(circ)\n",
    "\n",
    "for xx, yy in zip(xproj, yproj):\n",
    "    circ = Circle((xx, yy), 10, color='g')\n",
    "    ax.add_patch(circ)\n",
    "\n",
    "ax.imshow(img)\n",
    "\n",
    "# Code for Part 2 ends here"
   ]
  },
  {
   "cell_type": "code",
   "execution_count": null,
   "metadata": {
    "colab": {},
    "colab_type": "code",
    "id": "U0BtxTff-_Pz",
    "pycharm": {
     "name": "#%%\n"
    }
   },
   "outputs": [],
   "source": []
  }
 ],
 "metadata": {
  "colab": {
   "collapsed_sections": [],
   "name": "Calibrartion_sree.ipynb",
   "provenance": [],
   "version": "0.3.2"
  },
  "kernelspec": {
   "display_name": "Python 3 (ipykernel)",
   "language": "python",
   "name": "python3"
  },
  "language_info": {
   "codemirror_mode": {
    "name": "ipython",
    "version": 3
   },
   "file_extension": ".py",
   "mimetype": "text/x-python",
   "name": "python",
   "nbconvert_exporter": "python",
   "pygments_lexer": "ipython3",
   "version": "3.9.7"
  }
 },
 "nbformat": 4,
 "nbformat_minor": 1
}